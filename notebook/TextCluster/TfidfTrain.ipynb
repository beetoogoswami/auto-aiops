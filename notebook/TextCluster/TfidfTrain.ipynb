{
 "cells": [
  {
   "cell_type": "code",
   "execution_count": 70,
   "metadata": {},
   "outputs": [],
   "source": [
    "import jieba\n",
    "import jieba.analyse\n",
    "import pandas as pd\n",
    "import numpy as np\n",
    "from sklearn.feature_extraction.text import CountVectorizer, TfidfVectorizer\n",
    "import numpy as np"
   ]
  },
  {
   "cell_type": "code",
   "execution_count": 71,
   "metadata": {},
   "outputs": [],
   "source": [
    "import re\n",
    "def filter_tags(htmlstr):\n",
    "    \"\"\"\n",
    "    # Python通过正则表达式去除(过滤)HTML标签\n",
    "    :param htmlstr:\n",
    "    :return:\n",
    "    \"\"\"\n",
    "    # 先过滤CDATA\n",
    "    re_cdata = re.compile('//<!\\\n",
    "    CDATA\\[[ >]∗ //\\\n",
    "    CDATA\\[[ >]∗ //\\\n",
    "    \\] > ',re.I) #匹配CDATA\n",
    "    re_script = re.compile('<\\s*script[^>]*>[^<]*<\\s*/\\s*script\\s*>', re.I)\n",
    "    # Script\n",
    "    re_style = re.compile('<\\s*style[^>]*>[^<]*<\\s*/\\s*style\\s*>', re.I)\n",
    "    # style\n",
    "    re_br = re.compile('<br\\s*?/?>')\n",
    "    # 处理换行\n",
    "    re_h = re.compile('</?\\w+[^>]*>')\n",
    "    # HTML标签\n",
    "    re_comment = re.compile('<!--[^>]*-->')\n",
    "    # HTML注释\n",
    "    s = re_cdata.sub('', htmlstr)\n",
    "    # 去掉CDATA\n",
    "    s = re_script.sub('', s)  # 去掉SCRIPT\n",
    "    s = re_style.sub('', s)\n",
    "    # 去掉style\n",
    "    s = re_br.sub('\\n', s)\n",
    "    # 将br转换为换行\n",
    "    s = re_h.sub('', s)  # 去掉HTML 标签\n",
    "    s = re_comment.sub('', s)\n",
    "    # 去掉HTML注释\n",
    "    # 去掉多余的空行\n",
    "    blank_line = re.compile('\\n+')\n",
    "    s = blank_line.sub('\\n', s)\n",
    "    s = replaceCharEntity(s)  # 替换实体\n",
    "    return s\n",
    "\n",
    "def replaceCharEntity(htmlstr):\n",
    "    \"\"\"\n",
    "    :param htmlstr:HTML字符串\n",
    "    :function:过滤HTML中的标签\n",
    "    \"\"\"\n",
    "    CHAR_ENTITIES = {'nbsp': ' ', '160': ' ',\n",
    "                     'lt': '<', '60': '<',\n",
    "                     'gt': '>', '62': '>',\n",
    "                     'amp': '&', '38': '&',\n",
    "                     'quot': '\"', '34': '\"', }\n",
    "\n",
    "    re_charEntity = re.compile(r'&#?(?P<name>\\w+);')\n",
    "    sz = re_charEntity.search(htmlstr)\n",
    "    while sz:\n",
    "        entity = sz.group()  # entity全称，如>\n",
    "        key = sz.group('name')  # 去除&;后entity,如>为gt\n",
    "        try:\n",
    "            htmlstr = re_charEntity.sub(CHAR_ENTITIES[key], htmlstr, 1)\n",
    "            sz = re_charEntity.search(htmlstr)\n",
    "        except KeyError:\n",
    "            # 以空串代替\n",
    "            htmlstr = re_charEntity.sub('', htmlstr, 1)\n",
    "            sz = re_charEntity.search(htmlstr)\n",
    "    return htmlstr\n",
    "\n",
    "def repalce(s, re_exp, repl_string):\n",
    "    return re_exp.sub(repl_string,s)"
   ]
  },
  {
   "cell_type": "code",
   "execution_count": 72,
   "metadata": {},
   "outputs": [],
   "source": [
    "with open(\"f:/data/complaint1.txt\", \"r\", encoding=\"GBK\", errors='ignore') as f:\n",
    "    texts = [filter_tags(line).replace('\\n', \"\") for line in f.readlines()]"
   ]
  },
  {
   "cell_type": "code",
   "execution_count": 102,
   "metadata": {},
   "outputs": [],
   "source": [
    "datasets = []\n",
    "stopwords = {}.fromkeys([ line.rstrip() for line in open('f:/data/baidu_stopword.txt', 'r', encoding='utf-8') ])\n",
    "\n",
    "for line in texts:\n",
    "    segs = [word for word in jieba.lcut(line, cut_all=False) if word not in stopwords]\n",
    "    datasets.append(segs)\n"
   ]
  },
  {
   "cell_type": "code",
   "execution_count": 103,
   "metadata": {},
   "outputs": [],
   "source": [
    "from gensim import corpora\n",
    "from gensim.models import TfidfModel\n",
    "dct=corpora.Dictionary(datasets)\n",
    "corpus = [dct.doc2bow(line) for line in datasets]"
   ]
  },
  {
   "cell_type": "code",
   "execution_count": 104,
   "metadata": {},
   "outputs": [],
   "source": [
    "model = TfidfModel(corpus)\n",
    "vector = model[corpus[0]]\n",
    "# print(vector)\n",
    "#print(model)\n"
   ]
  },
  {
   "cell_type": "code",
   "execution_count": 105,
   "metadata": {},
   "outputs": [],
   "source": [
    "dict = {}\n",
    "for l in model[corpus]:\n",
    "    for w in l:\n",
    "        if w[0] not in dict:\n",
    "            dict[w[0]] = w[1]\n",
    "\n",
    "with open(\"f:/data/complaint_idf.txt.big\", \"w\") as f:\n",
    "    for (k, v) in dict.items():\n",
    "        f.write(dct[k])\n",
    "        f.write(\" \")\n",
    "        f.write(str(v))\n",
    "        f.write(\"\\n\")\n"
   ]
  },
  {
   "cell_type": "code",
   "execution_count": null,
   "metadata": {},
   "outputs": [],
   "source": []
  }
 ],
 "metadata": {
  "kernelspec": {
   "display_name": "Python 3",
   "language": "python",
   "name": "python3"
  },
  "language_info": {
   "codemirror_mode": {
    "name": "ipython",
    "version": 3
   },
   "file_extension": ".py",
   "mimetype": "text/x-python",
   "name": "python",
   "nbconvert_exporter": "python",
   "pygments_lexer": "ipython3",
   "version": "3.7.4"
  }
 },
 "nbformat": 4,
 "nbformat_minor": 4
}
