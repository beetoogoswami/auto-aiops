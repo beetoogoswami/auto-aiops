{
 "cells": [
  {
   "cell_type": "code",
   "execution_count": 206,
   "metadata": {},
   "outputs": [],
   "source": [
    "import jieba\n",
    "import jieba.analyse\n",
    "from gensim import corpora\n",
    "from gensim.models import TfidfModel\n",
    "from gensim.matutils import corpus2dense, corpus2csc\n",
    "from sklearn.cluster import KMeans\n",
    "\n",
    "texts = [\n",
    "    '中国人民解放军赢得了抗日战争的胜利',\n",
    "    '中国人民解放军赢得了朝鲜战争的胜利',\n",
    "    '八路军进入了抗日战争阶段',\n",
    "    '印度军在边境与我军发生了冲突',\n",
    "    '鹿晗是大家喜欢的大众偶像，他会唱歌',\n",
    "    '韩红歌唱的很不错，但是因为各种原因，长相不好看',\n",
    "    '好声音里有很多唱歌好的人，其中有解放军',\n",
    "    '一场歌唱的战争已经打响，大家凭借歌唱实例进行比拼'\n",
    "]"
   ]
  },
  {
   "cell_type": "code",
   "execution_count": 207,
   "metadata": {},
   "outputs": [],
   "source": [
    "#datasets = [jieba.analyse.extract_tags(line, topK=5, withWeight=False, allowPOS=()) for line in texts]\n",
    "content = open(\"f:/data/complaint1.txt\", 'r', encoding=\"GBK\", errors='ignore').read()\n",
    "texts = content.split(\"\\n\")\n",
    "datasets = [jieba.lcut(line) for line in texts]"
   ]
  },
  {
   "cell_type": "code",
   "execution_count": 208,
   "metadata": {},
   "outputs": [],
   "source": [
    "\n",
    "dct=corpora.Dictionary(datasets)\n",
    "corpus = [dct.doc2bow(line) for line in datasets]\n",
    "model = TfidfModel(corpus)\n",
    "corpus_tfidf = model[corpus]\n",
    "corpus_tfidf_sparse = corpus2csc(corpus_tfidf)"
   ]
  },
  {
   "cell_type": "code",
   "execution_count": 209,
   "metadata": {},
   "outputs": [
    {
     "data": {
      "text/plain": [
       "array([ 4,  7, 14, ..., 15,  0,  7])"
      ]
     },
     "execution_count": 209,
     "metadata": {},
     "output_type": "execute_result"
    }
   ],
   "source": [
    "from sklearn.decomposition import PCA, TruncatedSVD\n",
    "from sklearn.preprocessing import Normalizer\n",
    "from sklearn.pipeline import make_pipeline\n",
    "import numpy as np\n",
    "\n",
    "svd = TruncatedSVD(100)\n",
    "normalizer = Normalizer(copy=False)\n",
    "lsa = make_pipeline(svd, normalizer) \n",
    "train_data = lsa.fit_transform(corpus_tfidf_sparse.T)\n",
    "\n",
    "#clusters = KMeans(n_clusters=2, max_iter=100, n_init=1, verbose=False, init=np.array([train_data[0], train_data[-2]])).fit_predict(train_data)\n",
    "clusters = KMeans(n_clusters=20, max_iter=100, n_init=1, verbose=False, init=\"k-means++\").fit_predict(train_data)\n",
    "clusters"
   ]
  },
  {
   "cell_type": "code",
   "execution_count": 211,
   "metadata": {},
   "outputs": [
    {
     "data": {
      "image/png": "[encoded data removed]",
      "text/plain": [
       "<Figure size 432x288 with 1 Axes>"
      ]
     },
     "metadata": {
      "needs_background": "light"
     },
     "output_type": "display_data"
    }
   ],
   "source": [
    "import matplotlib.pyplot as plt\n",
    "plt.hist(clusters, bins=20)\n",
    "plt.show()"
   ]
  },
  {
   "cell_type": "code",
   "execution_count": 213,
   "metadata": {},
   "outputs": [
    {
     "data": {
      "text/html": [
       "<div>\n",
       "<style scoped>\n",
       "    .dataframe tbody tr th:only-of-type {\n",
       "        vertical-align: middle;\n",
       "    }\n",
       "\n",
       "    .dataframe tbody tr th {\n",
       "        vertical-align: top;\n",
       "    }\n",
       "\n",
       "    .dataframe thead th {\n",
       "        text-align: right;\n",
       "    }\n",
       "</style>\n",
       "<table border=\"1\" class=\"dataframe\">\n",
       "  <thead>\n",
       "    <tr style=\"text-align: right;\">\n",
       "      <th></th>\n",
       "      <th>0</th>\n",
       "      <th>type</th>\n",
       "    </tr>\n",
       "  </thead>\n",
       "  <tbody>\n",
       "    <tr>\n",
       "      <td>0</td>\n",
       "      <td>&lt;Guid dataid=200601002638376/&gt;询问用户：为准确排查您反映的问题...</td>\n",
       "      <td>4</td>\n",
       "    </tr>\n",
       "    <tr>\n",
       "      <td>1</td>\n",
       "      <td>设备诊断:掉电/离线/XX，请重新连接网线，并关闭电源5分钟后再测试!;&lt;br/&gt;开户地址:...</td>\n",
       "      <td>7</td>\n",
       "    </tr>\n",
       "    <tr>\n",
       "      <td>2</td>\n",
       "      <td>移动业务→网络质量→手机上网（4G）→全局流转→功能使用→网速慢或网页无法打开→全局流转（1...</td>\n",
       "      <td>14</td>\n",
       "    </tr>\n",
       "    <tr>\n",
       "      <td>3</td>\n",
       "      <td>移动业务→网络质量→手机上网（4G）→全局流转→功能使用→区域无信号→全局流转问题描述:四川...</td>\n",
       "      <td>14</td>\n",
       "    </tr>\n",
       "    <tr>\n",
       "      <td>4</td>\n",
       "      <td>设备诊断:掉电/离线/XX，请重新连接网线，并关闭电源5分钟后再测试!;&lt;br/&gt;开户地址:...</td>\n",
       "      <td>7</td>\n",
       "    </tr>\n",
       "  </tbody>\n",
       "</table>\n",
       "</div>"
      ],
      "text/plain": [
       "                                                   0  type\n",
       "0  <Guid dataid=200601002638376/>询问用户：为准确排查您反映的问题...     4\n",
       "1  设备诊断:掉电/离线/XX，请重新连接网线，并关闭电源5分钟后再测试!;<br/>开户地址:...     7\n",
       "2  移动业务→网络质量→手机上网（4G）→全局流转→功能使用→网速慢或网页无法打开→全局流转（1...    14\n",
       "3  移动业务→网络质量→手机上网（4G）→全局流转→功能使用→区域无信号→全局流转问题描述:四川...    14\n",
       "4  设备诊断:掉电/离线/XX，请重新连接网线，并关闭电源5分钟后再测试!;<br/>开户地址:...     7"
      ]
     },
     "execution_count": 213,
     "metadata": {},
     "output_type": "execute_result"
    }
   ],
   "source": [
    "import pandas as pd\n",
    "\n",
    "df = pd.DataFrame(texts)\n",
    "df[\"type\"] = clusters\n",
    "\n",
    "df.head()"
   ]
  },
  {
   "cell_type": "code",
   "execution_count": 215,
   "metadata": {},
   "outputs": [],
   "source": [
    "df.to_csv(\"f:/data/cluster_result.csv\", encoding=\"GBK\")"
   ]
  },
  {
   "cell_type": "code",
   "execution_count": null,
   "metadata": {},
   "outputs": [],
   "source": []
  }
 ],
 "metadata": {
  "kernelspec": {
   "display_name": "Python 3",
   "language": "python",
   "name": "python3"
  },
  "language_info": {
   "codemirror_mode": {
    "name": "ipython",
    "version": 3
   },
   "file_extension": ".py",
   "mimetype": "text/x-python",
   "name": "python",
   "nbconvert_exporter": "python",
   "pygments_lexer": "ipython3",
   "version": "3.7.4"
  }
 },
 "nbformat": 4,
 "nbformat_minor": 4
}
