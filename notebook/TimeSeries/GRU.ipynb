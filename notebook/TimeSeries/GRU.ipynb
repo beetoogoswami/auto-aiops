{
 "cells": [
  {
   "cell_type": "code",
   "execution_count": 1,
   "metadata": {},
   "outputs": [
    {
     "name": "stderr",
     "output_type": "stream",
     "text": [
      "Using TensorFlow backend.\n"
     ]
    }
   ],
   "source": [
    "# Importing the libraries\n",
    "import numpy as np\n",
    "import matplotlib.pyplot as plt\n",
    "plt.style.use('fivethirtyeight')\n",
    "import pandas as pd\n",
    "from sklearn.preprocessing import MinMaxScaler\n",
    "from keras.models import Sequential\n",
    "from keras.layers import Dense, LSTM, Dropout, GRU, Bidirectional, Input\n",
    "from keras.optimizers import SGD\n",
    "import math\n",
    "from sklearn.metrics import mean_squared_error"
   ]
  },
  {
   "cell_type": "code",
   "execution_count": 2,
   "metadata": {},
   "outputs": [
    {
     "data": {
      "text/html": [
       "<div>\n",
       "<style scoped>\n",
       "    .dataframe tbody tr th:only-of-type {\n",
       "        vertical-align: middle;\n",
       "    }\n",
       "\n",
       "    .dataframe tbody tr th {\n",
       "        vertical-align: top;\n",
       "    }\n",
       "\n",
       "    .dataframe thead th {\n",
       "        text-align: right;\n",
       "    }\n",
       "</style>\n",
       "<table border=\"1\" class=\"dataframe\">\n",
       "  <thead>\n",
       "    <tr style=\"text-align: right;\">\n",
       "      <th></th>\n",
       "      <th>metrisValue</th>\n",
       "    </tr>\n",
       "    <tr>\n",
       "      <th>collectTime</th>\n",
       "      <th></th>\n",
       "    </tr>\n",
       "  </thead>\n",
       "  <tbody>\n",
       "    <tr>\n",
       "      <td>2020-03-14 16:01:00</td>\n",
       "      <td>467.0</td>\n",
       "    </tr>\n",
       "    <tr>\n",
       "      <td>2020-03-14 16:11:00</td>\n",
       "      <td>603.0</td>\n",
       "    </tr>\n",
       "    <tr>\n",
       "      <td>2020-03-14 16:21:00</td>\n",
       "      <td>615.0</td>\n",
       "    </tr>\n",
       "    <tr>\n",
       "      <td>2020-03-14 16:31:00</td>\n",
       "      <td>566.0</td>\n",
       "    </tr>\n",
       "    <tr>\n",
       "      <td>2020-03-14 16:41:00</td>\n",
       "      <td>515.0</td>\n",
       "    </tr>\n",
       "  </tbody>\n",
       "</table>\n",
       "</div>"
      ],
      "text/plain": [
       "                     metrisValue\n",
       "collectTime                     \n",
       "2020-03-14 16:01:00        467.0\n",
       "2020-03-14 16:11:00        603.0\n",
       "2020-03-14 16:21:00        615.0\n",
       "2020-03-14 16:31:00        566.0\n",
       "2020-03-14 16:41:00        515.0"
      ]
     },
     "execution_count": 2,
     "metadata": {},
     "output_type": "execute_result"
    }
   ],
   "source": [
    "dataset = pd.read_csv('../data/aim_business_cluster_60101020016000109719_train.csv', \n",
    "                      names=['collectTime','metrisValue'], index_col='collectTime', \n",
    "                      header=0, \n",
    "                      parse_dates=['collectTime'])\n",
    "dataset.head()"
   ]
  },
  {
   "cell_type": "code",
   "execution_count": 3,
   "metadata": {},
   "outputs": [],
   "source": [
    "# resample & fill the nan\n",
    "single_index_series = dataset['metrisValue'].resample(\"10T\").mean().ffill()\n",
    "\n",
    "#split the train & test data set\n",
    "training_set = single_index_series[:'2020/3/21'].values\n",
    "test_set = single_index_series['2020/3/22':].values\n",
    "\n",
    "# Scaling the training set\n",
    "sc = MinMaxScaler(feature_range=(0,1))\n",
    "training_set_scaled = sc.fit_transform(training_set.reshape(-1, 1))"
   ]
  },
  {
   "cell_type": "code",
   "execution_count": 4,
   "metadata": {},
   "outputs": [],
   "source": [
    "# Generate the train data, which contains the memory step data.\n",
    "memory_step = 10\n",
    "X_train = []\n",
    "y_train = []\n",
    "for i in range(memory_step,len(training_set_scaled)):\n",
    "    X_train.append(training_set_scaled[i - memory_step:i, 0])\n",
    "    y_train.append(training_set_scaled[i, 0])\n",
    "X_train, y_train = np.array(X_train), np.array(y_train)\n",
    "\n",
    "# Reshaping X_train for efficient modelling\n",
    "X_train = np.reshape(X_train, (X_train.shape[0], X_train.shape[1], 1))"
   ]
  },
  {
   "cell_type": "code",
   "execution_count": 5,
   "metadata": {},
   "outputs": [
    {
     "name": "stdout",
     "output_type": "stream",
     "text": [
      "Epoch 1/30\n",
      "1046/1046 [==============================] - 4s 4ms/step - loss: 0.1387\n",
      "Epoch 2/30\n",
      "1046/1046 [==============================] - 0s 293us/step - loss: 0.1031\n",
      "Epoch 3/30\n",
      "1046/1046 [==============================] - 0s 341us/step - loss: 0.0653\n",
      "Epoch 4/30\n",
      "1046/1046 [==============================] - 1s 499us/step - loss: 0.0507\n",
      "Epoch 5/30\n",
      "1046/1046 [==============================] - 0s 467us/step - loss: 0.0400\n",
      "Epoch 6/30\n",
      "1046/1046 [==============================] - 1s 533us/step - loss: 0.0294\n",
      "Epoch 7/30\n",
      "1046/1046 [==============================] - 0s 439us/step - loss: 0.0195\n",
      "Epoch 8/30\n",
      "1046/1046 [==============================] - 0s 308us/step - loss: 0.0134\n",
      "Epoch 9/30\n",
      "1046/1046 [==============================] - 0s 290us/step - loss: 0.0111\n",
      "Epoch 10/30\n",
      "1046/1046 [==============================] - 0s 348us/step - loss: 0.0110\n",
      "Epoch 11/30\n",
      "1046/1046 [==============================] - 0s 365us/step - loss: 0.0103\n",
      "Epoch 12/30\n",
      "1046/1046 [==============================] - 0s 329us/step - loss: 0.0108\n",
      "Epoch 13/30\n",
      "1046/1046 [==============================] - 0s 309us/step - loss: 0.0106\n",
      "Epoch 14/30\n",
      "1046/1046 [==============================] - 0s 347us/step - loss: 0.0104\n",
      "Epoch 15/30\n",
      "1046/1046 [==============================] - 0s 375us/step - loss: 0.0102 0s - loss: 0.\n",
      "Epoch 16/30\n",
      "1046/1046 [==============================] - 0s 312us/step - loss: 0.0100\n",
      "Epoch 17/30\n",
      "1046/1046 [==============================] - 0s 312us/step - loss: 0.0114\n",
      "Epoch 18/30\n",
      "1046/1046 [==============================] - 0s 337us/step - loss: 0.0099\n",
      "Epoch 19/30\n",
      "1046/1046 [==============================] - 0s 342us/step - loss: 0.0103\n",
      "Epoch 20/30\n",
      "1046/1046 [==============================] - 0s 359us/step - loss: 0.0104\n",
      "Epoch 21/30\n",
      "1046/1046 [==============================] - 0s 387us/step - loss: 0.0106\n",
      "Epoch 22/30\n",
      "1046/1046 [==============================] - 0s 302us/step - loss: 0.0097\n",
      "Epoch 23/30\n",
      "1046/1046 [==============================] - 0s 295us/step - loss: 0.0103\n",
      "Epoch 24/30\n",
      "1046/1046 [==============================] - 0s 340us/step - loss: 0.0095\n",
      "Epoch 25/30\n",
      "1046/1046 [==============================] - 0s 435us/step - loss: 0.0096\n",
      "Epoch 26/30\n",
      "1046/1046 [==============================] - 0s 473us/step - loss: 0.0096\n",
      "Epoch 27/30\n",
      "1046/1046 [==============================] - 0s 397us/step - loss: 0.0095\n",
      "Epoch 28/30\n",
      "1046/1046 [==============================] - 0s 340us/step - loss: 0.0095\n",
      "Epoch 29/30\n",
      "1046/1046 [==============================] - 0s 321us/step - loss: 0.0095\n",
      "Epoch 30/30\n",
      "1046/1046 [==============================] - 0s 329us/step - loss: 0.0098\n"
     ]
    },
    {
     "data": {
      "text/plain": [
       "<keras.callbacks.callbacks.History at 0x21d91b9af88>"
      ]
     },
     "execution_count": 5,
     "metadata": {},
     "output_type": "execute_result"
    }
   ],
   "source": [
    "regressorGRU = Sequential()\n",
    "# First GRU layer with Dropout regularisation\n",
    "regressorGRU.add(GRU(units=50, return_sequences=True, input_shape=(X_train.shape[1],1), activation='tanh'))\n",
    "regressorGRU.add(Dropout(0.2))\n",
    "# Second GRU layer\n",
    "regressorGRU.add(GRU(units=50, return_sequences=True, input_shape=(X_train.shape[1],1), activation='tanh'))\n",
    "regressorGRU.add(Dropout(0.2))\n",
    "# Third GRU layer\n",
    "regressorGRU.add(GRU(units=50, return_sequences=True, input_shape=(X_train.shape[1],1), activation='tanh'))\n",
    "regressorGRU.add(Dropout(0.2))\n",
    "# Fourth GRU layer\n",
    "regressorGRU.add(GRU(units=50, activation='tanh'))\n",
    "regressorGRU.add(Dropout(0.2))\n",
    "# The output layer\n",
    "regressorGRU.add(Dense(units=1))\n",
    "# Compiling the RNN\n",
    "regressorGRU.compile(optimizer=SGD(lr=0.01, decay=1e-7, momentum=0.9, nesterov=False),loss='mean_squared_error')\n",
    "# Fitting to the training set\n",
    "regressorGRU.fit(X_train,y_train,epochs=30,batch_size=150)"
   ]
  },
  {
   "cell_type": "code",
   "execution_count": 7,
   "metadata": {},
   "outputs": [],
   "source": [
    "dataset_total = pd.concat((single_index_series[:'2020/3/21'], single_index_series['2020/3/22':]), axis=0)\n",
    "inputs = dataset_total[len(single_index_series)-len(test_set) - memory_step:].values\n",
    "inputs = inputs.reshape(-1,1)\n",
    "inputs  = sc.transform(inputs)\n",
    "\n",
    "X_test = []\n",
    "for i in range(memory_step, len(inputs)):\n",
    "    X_test.append(inputs[i-memory_step:i, 0])\n",
    "X_test = np.array(X_test)\n",
    "X_test = np.reshape(X_test, (X_test.shape[0],X_test.shape[1],1))\n",
    "predicted_metrisValue = regressorGRU.predict(X_test)\n",
    "predicted_metrisValue = sc.inverse_transform(predicted_metrisValue)"
   ]
  },
  {
   "cell_type": "code",
   "execution_count": 8,
   "metadata": {},
   "outputs": [
    {
     "data": {
      "image/png": "[encoded data removed]",
      "text/plain": [
       "<Figure size 1152x432 with 1 Axes>"
      ]
     },
     "metadata": {
      "needs_background": "light"
     },
     "output_type": "display_data"
    },
    {
     "name": "stdout",
     "output_type": "stream",
     "text": [
      "The root mean squared error is 820.7768055978136.\n"
     ]
    }
   ],
   "source": [
    "# LossFunction\n",
    "def return_rmse(test,predicted):\n",
    "    rmse = math.sqrt(mean_squared_error(test, predicted))\n",
    "    print(\"The root mean squared error is {}.\".format(rmse))\n",
    "    \n",
    "def plot_predictions(test,predicted):\n",
    "    plt.figure(figsize=(16, 6))\n",
    "    plt.plot(test, color='red',label='Real Metrics')\n",
    "    plt.plot(predicted, color='blue',label='Predicted Metrics')\n",
    "    plt.title(' Metrics Prediction')\n",
    "    plt.xlabel('Time')\n",
    "    plt.ylabel('Value')\n",
    "    plt.legend()\n",
    "    plt.show()\n",
    "    \n",
    "# return_rmse(test_set ,predicted_metrisValue)\n",
    "plot_predictions(test_set, predicted_metrisValue)\n",
    "return_rmse(test_set, predicted_metrisValue)"
   ]
  },
  {
   "cell_type": "code",
   "execution_count": null,
   "metadata": {},
   "outputs": [],
   "source": []
  }
 ],
 "metadata": {
  "kernelspec": {
   "display_name": "Python 3.7.4 64-bit ('base': conda)",
   "language": "python",
   "name": "python37464bitbasecondafb7c31c4956d4471a0bbe6c2dd07aa3f"
  },
  "language_info": {
   "codemirror_mode": {
    "name": "ipython",
    "version": 3
   },
   "file_extension": ".py",
   "mimetype": "text/x-python",
   "name": "python",
   "nbconvert_exporter": "python",
   "pygments_lexer": "ipython3",
   "version": "3.7.4"
  }
 },
 "nbformat": 4,
 "nbformat_minor": 4
}
